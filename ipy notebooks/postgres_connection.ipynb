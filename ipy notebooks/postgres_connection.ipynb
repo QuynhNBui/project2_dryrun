{
 "cells": [
  {
   "cell_type": "code",
   "execution_count": 1,
   "metadata": {},
   "outputs": [],
   "source": [
    "# Importing dependencies\n",
    "import matplotlib.pyplot as plt\n",
    "import os\n",
    "import pandas as pd\n",
    "import psycopg2\n",
    "from dotenv import load_dotenv\n",
    "from sqlalchemy import create_engine\n",
    "import json"
   ]
  },
  {
   "cell_type": "code",
   "execution_count": 2,
   "metadata": {},
   "outputs": [],
   "source": [
    "# Loading homeowrk7.env so that the environment variables can be used in the engine object url\n",
    "load_dotenv(\"../project2.env\")\n",
    "# Initializing variables to hold each environmet varaible\n",
    "username=os.environ.get(\"USERNAME\")\n",
    "password=os.environ.get(\"PASSWORD\")\n",
    "host=os.environ.get(\"HOST\")\n",
    "port=os.environ.get(\"PORT\")\n",
    "database=os.environ.get(\"DATABASE\")"
   ]
  },
  {
   "cell_type": "code",
   "execution_count": 3,
   "metadata": {},
   "outputs": [],
   "source": [
    "# Initializing a variable with the created engine\n",
    "engine = create_engine(f\"postgres+psycopg2://{username}:{password}@{host}:{port}/{database}\")\n",
    "# Initializing a variable with the connection resource\n",
    "connection = engine.connect()"
   ]
  },
  {
   "cell_type": "code",
   "execution_count": 4,
   "metadata": {},
   "outputs": [],
   "source": [
    "# Initializing a dictionary to hold the fields of the neighborhood_polygon table\n",
    "fields = {\"id\": \"id INT NOT NULL PRIMARY KEY\",\n",
    "       \"field1\": \"type VARCHAR(17) NULL\",\n",
    "       \"field2\": \"features_type VARCHAR(7) NULL\",\n",
    "       \"field3\": \"features_properties_link VARCHAR(94) NULL\",\n",
    "       \"field4\": \"features_properties_name VARCHAR(28) NULL\",\n",
    "       \"field5\": \"features_geometry_type VARCHAR(12) NULL\",\n",
    "       \"field6\": \"features_geometry_coordinates FLOAT[][] NULL\"\n",
    "      }\n",
    "# Initializing a dictionary to hold the names of the fields of the neighborhood_polygon table\n",
    "field_names = {\"id\": \"id\",\n",
    "               \"field1\": \"type\",\n",
    "               \"field2\": \"features_type\",\n",
    "               \"field3\": \"features_properties_link\",\n",
    "               \"field4\": \"features_properties_name\",\n",
    "               \"field5\": \"features_geometry_type\",\n",
    "               \"field6\": \"features_geometry_coordinates\"\n",
    "      }\n",
    "\n",
    "# Initializing a variable with the string for the neighborhood_polygon table schema\n",
    "neighborhood_polygons_schema = \"{id}, {field1}, {field2}, {field3}, {field4}, {field5}, {field6}\".format(**fields)\n",
    "# Initializing a variable with the string for the neighborhood_polygon table schema\n",
    "table_data_str = \"{id}, {field1}, {field2}, {field3}, {field4}, {field5}, {field6}\".format(**field_names)"
   ]
  },
  {
   "cell_type": "code",
   "execution_count": 5,
   "metadata": {},
   "outputs": [],
   "source": [
    "# Reading in the geoJSON file containing the polygons for each of the San Francisco neighborhoods\n",
    "file_path = \"../geojsons/SF Find Neighborhoods.geojson\"\n",
    "with open(file_path) as jsonfile:\n",
    "    polygon_json = json.load(jsonfile)"
   ]
  },
  {
   "cell_type": "code",
   "execution_count": 6,
   "metadata": {},
   "outputs": [],
   "source": [
    "# Using a for-loop to unpack each feature of polygon_json and store it in the neighborhood_polygon table\n",
    "connection.execute(\"DROP TABLE IF EXISTS neighborhood_polygons;\")\n",
    "connection.execute(\"CREATE TABLE IF NOT EXISTS neighborhood_polygons \" + f\"({neighborhood_polygons_schema})\")  \n",
    "for i in range(len(polygon_json[\"features\"])):\n",
    "    id = i + 1\n",
    "    field1 = \"'\" + polygon_json[\"type\"] + \"'\"\n",
    "    field2 = \"'\" + polygon_json[\"features\"][i][\"type\"] + \"'\"\n",
    "    field3 = \"'\" + f'{polygon_json[\"features\"][i][\"properties\"][\"link\"]}' + \"'\"\n",
    "    field4 = \"'\" + polygon_json[\"features\"][i][\"properties\"][\"name\"] + \"'\"\n",
    "    field5 = \"'\" + polygon_json[\"features\"][i][\"geometry\"][\"type\"] + \"'\"\n",
    "    coordinate_list = polygon_json[\"features\"][i][\"geometry\"][\"coordinates\"][0][0]\n",
    "    field6 = coordinate_list\n",
    "    #\n",
    "    connection.execute(\"INSERT INTO neighborhood_polygons \" + f\"({table_data_str}) \" + f\"VALUES ({id}, {field1}, {field2}, {field3}, {field4}, {field5}, ARRAY{coordinate_list})\")"
   ]
  },
  {
   "cell_type": "code",
   "execution_count": 7,
   "metadata": {},
   "outputs": [],
   "source": [
    "# Using a for-loop to insert values into the mortgage_rate_increase\n",
    "connection.execute(\"DROP TABLE IF EXISTS mortgage_rate_increase;\")\n",
    "connection.execute(\"CREATE TABLE IF NOT EXISTS mortgage_rate_increase (id INT NOT NULL PRIMARY KEY, features_properties_name VARCHAR(28) NULL, features_properties_rate_of_increase INT NULL)\")\n",
    "value = 1\n",
    "for i in range(len(polygon_json[\"features\"])):\n",
    "    id = i + 1\n",
    "    field1 = \"'\" + polygon_json[\"features\"][i][\"properties\"][\"name\"] + \"'\"\n",
    "    field2 = value\n",
    "    connection.execute(f\"INSERT INTO mortgage_rate_increase (id, features_properties_name, features_properties_rate_of_increase) \" + f\"VALUES ({id}, {field1}, {field2})\")\n",
    "    value += 1"
   ]
  },
  {
   "cell_type": "code",
   "execution_count": 8,
   "metadata": {},
   "outputs": [],
   "source": [
    "# Initializing a varaibel to hold a query string that will return the join of all of the columns of the \n",
    "# neighborhood_polygons table and the features_properties_rate_of_increase of the mortgage_rate_increase table\n",
    "query_string = \"\"\"SELECT neighborhood_polygons.*, mortgage_rate_increase.features_properties_rate_of_increase\n",
    "                  FROM neighborhood_polygons JOIN mortgage_rate_increase\n",
    "                  ON neighborhood_polygons.id = mortgage_rate_increase.id\n",
    "                  ;\"\"\"\n"
   ]
  },
  {
   "cell_type": "code",
   "execution_count": 9,
   "metadata": {},
   "outputs": [],
   "source": [
    "# Initializing a variable with the returned table\n",
    "neighborhood_mortgage_rate_df = pd.read_sql(query_string, connection)"
   ]
  },
  {
   "cell_type": "code",
   "execution_count": 10,
   "metadata": {},
   "outputs": [],
   "source": [
    "# Building a JSON file out of neighborhood_mortgage_rate_df\n",
    "neighborhood_mortgage_rate_list = []\n",
    "# Using a for loop to build each geojson feature\n",
    "for row in neighborhood_mortgage_rate_df.iterrows():\n",
    "    features_type = row[1][2]\n",
    "    features_properties_link = row[1][3] \n",
    "    features_properties_name = row[1][4] \n",
    "    features_properties_rate_of_increase = row[1][7]\n",
    "    features_geometry_type = row[1][5] \n",
    "    features_geometry_coordinates = row[1][6]\n",
    "    features_geometry_coordinates_list = []\n",
    "    #\n",
    "    neighborhood_mortgage_rate_list.append({'type': features_type, 'properties': {'link': features_properties_link, 'name': features_properties_name,\n",
    "                'MRI': features_properties_rate_of_increase},\n",
    " 'geometry': {'type': features_geometry_type, 'coordinates': [[features_geometry_coordinates]]}})\n",
    "#\n",
    "neighborhood_mortgage_rate_dict = {'type': 'FeatureCollection', 'features': neighborhood_mortgage_rate_list}"
   ]
  },
  {
   "cell_type": "code",
   "execution_count": 11,
   "metadata": {},
   "outputs": [],
   "source": [
    "# Writing a .geojson file to hold neighborhood_mortgage_rate_dict\n",
    "with open(\"../geojsons/neighborhood_polygon_rates.geojson\", 'w') as write_file:\n",
    "    json.dump(neighborhood_mortgage_rate_dict, write_file)"
   ]
  },
  {
   "cell_type": "code",
   "execution_count": null,
   "metadata": {},
   "outputs": [],
   "source": []
  }
 ],
 "metadata": {
  "kernelspec": {
   "display_name": "Python 3",
   "language": "python",
   "name": "python3"
  },
  "language_info": {
   "codemirror_mode": {
    "name": "ipython",
    "version": 3
   },
   "file_extension": ".py",
   "mimetype": "text/x-python",
   "name": "python",
   "nbconvert_exporter": "python",
   "pygments_lexer": "ipython3",
   "version": "3.7.3"
  }
 },
 "nbformat": 4,
 "nbformat_minor": 2
}
